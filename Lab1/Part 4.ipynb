{
 "cells": [
  {
   "cell_type": "code",
   "execution_count": 6,
   "id": "6b1a5ab2-529e-40c3-8679-56ecc1096a9b",
   "metadata": {},
   "outputs": [
    {
     "name": "stdout",
     "output_type": "stream",
     "text": [
      "Burn time: 126.92 sec\n",
      "Altitude at burnout: 64546.80 meters\n"
     ]
    }
   ],
   "source": [
    "import numpy as np\n",
    "from scipy.integrate import quad\n",
    "\n",
    "# Constants\n",
    "\n",
    "v_e = 2.4e3 #m/s\n",
    "m0 = 2.4e6 #kg\n",
    "mf = 7.5e5 #kg\n",
    "m_dot = 1.3e4 #kg/s\n",
    "g = 9.81 #m/s^2\n",
    "\n",
    "# Burn Time\n",
    "T = (m0-mf)/m_dot\n",
    "\n",
    "def delta_v(t,m0,mf,m_dot,v_e,g):\n",
    "    m_t = m0 - m_dot * t\n",
    "    if m_t <= mf:\n",
    "        return 0\n",
    "    return v_e * np.log(m0/m_t) - g*t\n",
    "\n",
    "h,err = quad(delta_v,0,T,args=(m0,mf,m_dot,v_e,g))\n",
    "print(f'Burn time: {T:.2f} sec')\n",
    "print(f'Altitude at burnout: {h:.2f} meters')\n"
   ]
  }
 ],
 "metadata": {
  "kernelspec": {
   "display_name": "Python 3 (ipykernel)",
   "language": "python",
   "name": "python3"
  },
  "language_info": {
   "codemirror_mode": {
    "name": "ipython",
    "version": 3
   },
   "file_extension": ".py",
   "mimetype": "text/x-python",
   "name": "python",
   "nbconvert_exporter": "python",
   "pygments_lexer": "ipython3",
   "version": "3.12.5"
  }
 },
 "nbformat": 4,
 "nbformat_minor": 5
}
