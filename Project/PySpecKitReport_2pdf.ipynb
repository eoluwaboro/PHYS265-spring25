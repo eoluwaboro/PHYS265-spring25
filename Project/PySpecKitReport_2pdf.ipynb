{
 "cells": [
  {
   "cell_type": "markdown",
   "id": "30799c8b-eaf2-4097-892f-eb9022666df7",
   "metadata": {
    "editable": true,
    "slideshow": {
     "slide_type": ""
    },
    "tags": []
   },
   "source": [
    "### PySpecKit (PHYS265) ###"
   ]
  },
  {
   "cell_type": "markdown",
   "id": "1d78471c-2be3-45d8-a9b0-b629d19095a5",
   "metadata": {
    "editable": true,
    "slideshow": {
     "slide_type": ""
    },
    "tags": []
   },
   "source": [
    "PySpecKit: Where's the Bandgap?\n",
    "Enoch Oluwaboro - May 18th, 2025."
   ]
  },
  {
   "cell_type": "markdown",
   "id": "08570c2a-96ba-4190-8e2e-c70d40c99a2e",
   "metadata": {},
   "source": [
    "PySpecKit is a python toolkit designed for the analysis and interpretation of spectroscopic data across optical, infared, and radio wavelengths. Its primary goal is to provide a general purpose framework for spectroscopic line analysis that is compatible with a wide range of data formats. PySpecKit enables line fitting procedures like Gaussian and Voigt profile fitting as well as baseline subtraction and interactive data visualization. It also offers tools for producing publication-quality plots with LaTeX rendered axis labels. PySpecKit was originally developed for astrophysics applications, but its flexible design makes it useful for fields such as materials science where it can be used to fit photoluminescence or  absorbance spectra to extract physical properties like the optical bandgap for semiconductor materials."
   ]
  },
  {
   "cell_type": "markdown",
   "id": "478813d0-e1bb-4f1a-81b7-55a36ec68e3b",
   "metadata": {},
   "source": [
    "I picked this package because I am in the Materials Science and Engineering major and wanted a project that could bridge the topics between what I've learned this semester in PHYS265 and my core coursework in materials science. Spectroscopy is important in astrophysics and matsci so I thought his would be a fun project."
   ]
  },
  {
   "cell_type": "markdown",
   "id": "5e31e83b-c861-4383-b60c-c1f8b47ef0e1",
   "metadata": {},
   "source": [
    "PySpecKit was first released around 2011, developed by Adam Ginsburg and several collaborators. Its development was influenced by the need to automate and improve spectral line fitting in large radioastronomy datasets. Some related codes are specutils, pysynphot, and astropy's modeling framwork, which PySpecKit uses internally."
   ]
  },
  {
   "cell_type": "markdown",
   "id": "86d2b758-41a4-4e35-9a8a-665d48fc5447",
   "metadata": {},
   "source": [
    "It appears to still be actively maintained by Adam Ginsburg and contributions can be made on the toolkit's GitHub. It is also encouraged to contact them at pyspeckit@gmail.com or post to issues. "
   ]
  },
  {
   "cell_type": "markdown",
   "id": "7138cbef-0fd5-4dcc-85d1-9438db056414",
   "metadata": {
    "editable": true,
    "slideshow": {
     "slide_type": ""
    },
    "tags": []
   },
   "source": [
    "PySpecKit was incredibly easy to install and use, I simply used pip install pyspeckit and it downloaded in a matter of seconds. "
   ]
  },
  {
   "cell_type": "markdown",
   "id": "925df10f-0c78-4999-ab36-906fac24a7d8",
   "metadata": {
    "editable": true,
    "slideshow": {
     "slide_type": ""
    },
    "tags": []
   },
   "source": [
    "The source code is available at github.com/pyspeckit/pyspeckit"
   ]
  },
  {
   "cell_type": "markdown",
   "id": "c60cd199-977d-4f94-b981-5d6af441b48f",
   "metadata": {},
   "source": [
    "It does not appear that the code is used by other packages, but there is documentation that PySpecKit is used in over 60 papers that clearly cite the package."
   ]
  },
  {
   "cell_type": "markdown",
   "id": "e98624b1-9696-43ae-9d22-b3001a3eca23",
   "metadata": {},
   "source": [
    "PySpecKit is primarily used as a python module and is imported into Jupyter notebooks or python scripts. "
   ]
  },
  {
   "cell_type": "markdown",
   "id": "ea0798df-8f86-4f3c-82a3-5ea7159f5717",
   "metadata": {},
   "source": [
    "For my example usage, I wanted to do a spectral fitting to extract peak positons that would correlate to the bandgap energy of silicon, an extremely popular semiconductor."
   ]
  },
  {
   "cell_type": "markdown",
   "id": "d24ba561-cce1-4c6e-aede-68be21b381b5",
   "metadata": {},
   "source": [
    "The package uses matplotlib to generate figures."
   ]
  },
  {
   "cell_type": "markdown",
   "id": "b2e28ed4-36de-414c-8603-fed9cdd85577",
   "metadata": {
    "editable": true,
    "slideshow": {
     "slide_type": ""
    },
    "tags": []
   },
   "source": [
    "*Figure 1:* Gaussian Fit to Silicon Absorption Spectrum"
   ]
  },
  {
   "cell_type": "markdown",
   "id": "a4f209a4-3fa7-4cad-bb0d-cab5e3bb1664",
   "metadata": {},
   "source": [
    "This plot shows the absorption coefficient of silicon as a fucntion of photon energy derived from data from Green and Keevers' research in 1995. A Gaussian profile was fit using PySpecKit to model the absorption edge. The peak's center provides an estimate of the optical bandgap energy of silicon, and the width represents the spread in transition energies. "
   ]
  },
  {
   "cell_type": "markdown",
   "id": "92478352-e40a-4fe3-8af2-c95bef191339",
   "metadata": {},
   "source": [
    "The package is pure python and built on top of popular scientific libraries such as NumPy, SciPy, Astropy, and Matplotlib. The input for the package is a 1D spectrum, with an array of x-values and corresponding y-values. PySpecKit does support loading Flexible Image Transport System (FITS) files and other formats directly. The primary output of the package includes fitted model parameters, diagnostic plits with overlaid model fits, and residuals and goodness of fit statistics. They are accessible as python objects."
   ]
  },
  {
   "cell_type": "markdown",
   "id": "8223b8fe-cef6-4080-9a07-071a83a0378f",
   "metadata": {
    "editable": true,
    "slideshow": {
     "slide_type": ""
    },
    "tags": []
   },
   "source": [
    "PySpecKit includes a set of unit tests located in the pyspeckits/tests/ directory of the repository on GitHub.\n",
    "\n",
    "I'm confident that PySpecKit can produce a reliable result because of a few factors. A test suite that validates core functionality is easily acessible, as well as the usage and maintenance from researchers within the fields of spectroscopy and astronomy. It also uses established fit libraries liek lmfit, and I can compare the fitted results to known models. Also, for this particular project, the Gaussian fit appears reasonable and matches an expected spectral shape. \n",
    "\n",
    "PySpecKit relies on numpy, matplotlib, astropy, lmfit, and pyspeckit.spectrum.models. These were founnd in the repository in the setup.py file.\n",
    "\n",
    "PySpecKit provides documentation in the form of a GitHub README, a documentation website (https://pyspeckit.readthedocs.io/en/latest/index.html) with examples that demonstrate typical use cases.\n",
    "\n",
    "The preferred citation method is to cite their ads, 'Pyspeckit: A Spectroscopic Analysis and Plotting Package' \n",
    "\n",
    "References\n",
    "\n",
    "PySpecKit preferred citation: https://ui.adsabs.harvard.edu/abs/2022AJ....163..291G/abstract\n",
    "Spectral Data for silicon: https://www.pveducation.org/pvcdrom/materials/optical-properties-of-silicon\n",
    "\n",
    "I did not learn new python methods to use this package. Everything I used was taught in class except for this line because the data was incomplete."
   ]
  },
  {
   "cell_type": "raw",
   "id": "e7bef00d-b06d-4ae8-987c-43b08ce11e0b",
   "metadata": {},
   "source": [
    "data = data[~np.isnan(data).any(axis=1)]"
   ]
  },
  {
   "cell_type": "markdown",
   "id": "19bf370d-ae62-4ed1-adaf-2f2d349e3778",
   "metadata": {},
   "source": [
    "I knew where to get the data and what to look for, but everything else was completely new to me."
   ]
  }
 ],
 "metadata": {
  "kernelspec": {
   "display_name": "Python 3 (ipykernel)",
   "language": "python",
   "name": "python3"
  },
  "language_info": {
   "codemirror_mode": {
    "name": "ipython",
    "version": 3
   },
   "file_extension": ".py",
   "mimetype": "text/x-python",
   "name": "python",
   "nbconvert_exporter": "python",
   "pygments_lexer": "ipython3",
   "version": "3.12.5"
  }
 },
 "nbformat": 4,
 "nbformat_minor": 5
}
